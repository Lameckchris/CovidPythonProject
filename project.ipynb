{
 "cells": [
  {
   "cell_type": "code",
   "execution_count": 3,
   "id": "6071ebb5",
   "metadata": {},
   "outputs": [
    {
     "ename": "ModuleNotFoundError",
     "evalue": "No module named 'pandas'",
     "output_type": "error",
     "traceback": [
      "\u001b[0;31m---------------------------------------------------------------------------\u001b[0m",
      "\u001b[0;31mModuleNotFoundError\u001b[0m                       Traceback (most recent call last)",
      "Cell \u001b[0;32mIn[3], line 1\u001b[0m\n\u001b[0;32m----> 1\u001b[0m \u001b[38;5;28;01mimport\u001b[39;00m\u001b[38;5;250m \u001b[39m\u001b[38;5;21;01mpandas\u001b[39;00m\u001b[38;5;250m \u001b[39m\u001b[38;5;28;01mas\u001b[39;00m\u001b[38;5;250m \u001b[39m\u001b[38;5;21;01mpd\u001b[39;00m\n\u001b[1;32m      2\u001b[0m \u001b[38;5;28;01mimport\u001b[39;00m\u001b[38;5;250m \u001b[39m\u001b[38;5;21;01mmatplotlib\u001b[39;00m\u001b[38;5;21;01m.\u001b[39;00m\u001b[38;5;21;01mpyplot\u001b[39;00m\u001b[38;5;250m \u001b[39m\u001b[38;5;28;01mas\u001b[39;00m\u001b[38;5;250m \u001b[39m\u001b[38;5;21;01mplt\u001b[39;00m\n\u001b[1;32m      3\u001b[0m \u001b[38;5;28;01mimport\u001b[39;00m\u001b[38;5;250m \u001b[39m\u001b[38;5;21;01mseaborn\u001b[39;00m\u001b[38;5;250m \u001b[39m\u001b[38;5;28;01mas\u001b[39;00m\u001b[38;5;250m \u001b[39m\u001b[38;5;21;01msns\u001b[39;00m\n",
      "\u001b[0;31mModuleNotFoundError\u001b[0m: No module named 'pandas'"
     ]
    }
   ],
   "source": [
    "import pandas as pd\n",
    "import matplotlib.pyplot as plt\n",
    "import seaborn as sns\n",
    "import ipywidgets as widgets\n",
    "from IPython.display import display\n",
    "import streamlit as st\n",
    "\n",
    "# Load the data\n",
    "df = pd.read_csv('owid-covid-data.csv')\n",
    "print(df.columns)  # Check actual columns\n",
    "df.columns = df.columns.str.strip()  # Remove any leading/trailing spaces\n",
    "\n",
    "# Ensure 'location' column exists\n",
    "if 'location' not in df.columns:\n",
    "    print(\"Error: 'location' column not found in the data. Please check the CSV file or re-download it using:\\n\"\n",
    "          \"curl -L -o owid-covid-data.csv https://covid.ourworldindata.org/data/owid-covid-data.csv\")\n",
    "    import sys\n",
    "    sys.exit(1)\n",
    "\n",
    "# Preview first few rows\n",
    "print(df.head())\n",
    "\n",
    "# Check for missing values\n",
    "print(df.isnull().sum())\n",
    "\n",
    "# Filter for countries of interest\n",
    "countries = ['Kenya', 'United States', 'India']\n",
    "df_countries = df[df['location'].isin(countries)]\n",
    "\n",
    "# Drop rows with missing critical values\n",
    "print('Columns before dropna:', df_countries.columns)\n",
    "drop_cols = ['date', 'total_cases', 'total_deaths']\n",
    "df_countries = df_countries.dropna(subset=drop_cols)  # type: ignore\n",
    "\n",
    "# Convert date column to datetime\n",
    "df_countries['date'] = pd.to_datetime(df_countries['date'])\n",
    "\n",
    "# Fill missing numeric values with interpolation\n",
    "df_countries = df_countries.interpolate()\n",
    "\n",
    "# Plot total cases over time\n",
    "plt.figure(figsize=(12,6))\n",
    "for country in countries:\n",
    "    subset = df_countries[df_countries['location'] == country]\n",
    "    plt.plot(subset['date'], subset['total_cases'], label=country)\n",
    "plt.title('Total COVID-19 Cases Over Time')\n",
    "plt.xlabel('Date')\n",
    "plt.ylabel('Total Cases')\n",
    "plt.legend()\n",
    "plt.show()\n",
    "\n",
    "# Calculate death rate\n",
    "df_countries['death_rate'] = df_countries['total_deaths'] / df_countries['total_cases']\n",
    "\n",
    "# Plot death rate\n",
    "plt.figure(figsize=(12,6))\n",
    "for country in countries:\n",
    "    subset = df_countries[df_countries['location'] == country]\n",
    "    plt.plot(subset['date'], subset['death_rate'], label=country)\n",
    "plt.title('COVID-19 Death Rate Over Time')\n",
    "plt.xlabel('Date')\n",
    "plt.ylabel('Death Rate')\n",
    "plt.legend()\n",
    "plt.show()\n",
    "\n",
    "print(df_countries.columns)\n",
    "\n",
    "country_widget = widgets.Dropdown(options=df['location'].unique(), description='Country:')\n",
    "display(country_widget)\n",
    "\n",
    "country = st.selectbox('Select country', df['location'].unique())\n",
    "subset = df[df['location'] == country]\n",
    "st.line_chart(subset.set_index('date')['total_cases'])\n"
   ]
  }
 ],
 "metadata": {
  "kernelspec": {
   "display_name": "Python 3",
   "language": "python",
   "name": "python3"
  },
  "language_info": {
   "codemirror_mode": {
    "name": "ipython",
    "version": 3
   },
   "file_extension": ".py",
   "mimetype": "text/x-python",
   "name": "python",
   "nbconvert_exporter": "python",
   "pygments_lexer": "ipython3",
   "version": "3.9.6"
  }
 },
 "nbformat": 4,
 "nbformat_minor": 5
}
